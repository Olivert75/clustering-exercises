{
 "cells": [
  {
   "cell_type": "markdown",
   "id": "b8afc868-6f2e-4585-9bc3-63f925304c43",
   "metadata": {},
   "source": [
    "Clustering with the Iris Dataset\n",
    "\n",
    "Using this lesson as a guide, perform clustering on the iris dataset.\n",
    "\n",
    "Choose features other than the ones used in the lesson.\n",
    "Visualize the results of your clustering.\n",
    "Use the elbow method to visually select a good value for k.\n",
    "Repeat the clustering, this time with 3 different features.\n",
    "Use the techniques discussed in this lesson, as well as the insights gained from the exploration exercise to perform clustering on the mall customers dataset. Be sure to visualize your results!\n",
    "\n",
    "How does scaling impact the results of clustering?\n",
    "\n",
    "Compare k-means clustering results on scaled and unscaled data (you can choose any dataset for this exercise OR use the data/steps outlined in the bonus below). You can show how the resulting clusters differ either with descriptive statistics or visually."
   ]
  },
  {
   "cell_type": "code",
   "execution_count": 1,
   "id": "147afb4e-7312-4f8a-93f3-ad2dcf695332",
   "metadata": {},
   "outputs": [],
   "source": [
    "#importing\n",
    "import warnings\n",
    "warnings.filterwarnings(\"ignore\")\n",
    "\n",
    "import pandas as pd\n",
    "import numpy as np\n",
    "\n",
    "import matplotlib.pyplot as plt\n",
    "from matplotlib import cm\n",
    "import seaborn as sns\n",
    "\n",
    "from sklearn.cluster import KMeans\n",
    "from pydataset import data\n",
    "\n",
    "from sklearn.preprocessing import MinMaxScaler\n",
    "import sklearn\n",
    "from sklearn.model_selection import train_test_split\n",
    "\n",
    "import wrangle_mall as w"
   ]
  },
  {
   "cell_type": "code",
   "execution_count": 2,
   "id": "28300736-ea5b-4bac-8d7b-45efb9d50f2e",
   "metadata": {},
   "outputs": [],
   "source": [
    "#load iris dataset\n",
    "iris_df = data('iris')"
   ]
  },
  {
   "cell_type": "code",
   "execution_count": 3,
   "id": "64b193c1-4718-4ffa-9d4f-08af3dea8a2c",
   "metadata": {},
   "outputs": [],
   "source": [
    "#rename columns for ease of use\n",
    "iris_df = iris_df.rename(columns={\"Sepal.Length\": \"sepal_length\",\n",
    "                        \"Sepal.Width\": \"sepal_width\",\n",
    "                        \"Petal.Length\": \"petal_length\",\n",
    "                        \"Petal.Width\": \"petal_width\",\n",
    "                        \"Species\": \"species\"})"
   ]
  },
  {
   "cell_type": "code",
   "execution_count": 4,
   "id": "d8f8a025-a427-4e3e-8879-6cb5e10df606",
   "metadata": {},
   "outputs": [],
   "source": [
    "#I might use these features later\n",
    "iris_df['sepal_area']= iris_df.sepal_length * iris_df.sepal_width\n",
    "iris_df['petal_area']= iris_df.petal_length * iris_df.petal_width"
   ]
  },
  {
   "cell_type": "code",
   "execution_count": 5,
   "id": "d4902531-50b1-40b3-a2a7-060bb93ed0be",
   "metadata": {},
   "outputs": [],
   "source": [
    "#split the data into train, validate, test\n",
    "train_validate, test = train_test_split(iris_df, test_size=.2, random_state=123)\n",
    "\n",
    "train, validate = train_test_split(train_validate, test_size=.3, random_state=123)"
   ]
  },
  {
   "cell_type": "code",
   "execution_count": 6,
   "id": "637b4ea9-308a-4983-9a2b-b4ccc7998509",
   "metadata": {},
   "outputs": [],
   "source": [
    "#Scale our data\n",
    "scaler = sklearn.preprocessing.StandardScaler()\n",
    "\n",
    "cols = ['sepal_length','sepal_width','petal_length','petal_width','sepal_area','petal_area']\n",
    "\n",
    "train_scaled = train.copy()\n",
    "validate_scaled = validate.copy()\n",
    "test_scaled = test.copy()\n",
    "\n",
    "train_scaled[cols] = scaler.fit_transform(train[cols])\n",
    "validate_scaled[cols] = scaler.fit_transform(validate[cols])\n",
    "test_scaled[cols] = scaler.fit_transform(test[cols])"
   ]
  },
  {
   "cell_type": "code",
   "execution_count": 7,
   "id": "6775b239-a45f-4a9b-a0f2-cbbf18a8008e",
   "metadata": {},
   "outputs": [],
   "source": [
    "#select features\n",
    "X = train_scaled[['petal_width', 'sepal_width']]"
   ]
  },
  {
   "cell_type": "code",
   "execution_count": 8,
   "id": "31150953-6a48-48ec-9646-eff131c9a9fd",
   "metadata": {},
   "outputs": [
    {
     "data": {
      "text/plain": [
       "KMeans(n_clusters=4)"
      ]
     },
     "execution_count": 8,
     "metadata": {},
     "output_type": "execute_result"
    }
   ],
   "source": [
    "#let's try 4 clusters\n",
    "kmeans = KMeans(n_clusters=4)\n",
    "kmeans.fit(X)"
   ]
  },
  {
   "cell_type": "code",
   "execution_count": 9,
   "id": "b021e874-69d9-417d-b07f-30174c062af4",
   "metadata": {},
   "outputs": [
    {
     "data": {
      "text/html": [
       "<div>\n",
       "<style scoped>\n",
       "    .dataframe tbody tr th:only-of-type {\n",
       "        vertical-align: middle;\n",
       "    }\n",
       "\n",
       "    .dataframe tbody tr th {\n",
       "        vertical-align: top;\n",
       "    }\n",
       "\n",
       "    .dataframe thead th {\n",
       "        text-align: right;\n",
       "    }\n",
       "</style>\n",
       "<table border=\"1\" class=\"dataframe\">\n",
       "  <thead>\n",
       "    <tr style=\"text-align: right;\">\n",
       "      <th></th>\n",
       "      <th>sepal_length</th>\n",
       "      <th>sepal_width</th>\n",
       "      <th>petal_length</th>\n",
       "      <th>petal_width</th>\n",
       "      <th>species</th>\n",
       "      <th>sepal_area</th>\n",
       "      <th>petal_area</th>\n",
       "      <th>cluster</th>\n",
       "    </tr>\n",
       "  </thead>\n",
       "  <tbody>\n",
       "    <tr>\n",
       "      <th>56</th>\n",
       "      <td>-0.175228</td>\n",
       "      <td>-0.537127</td>\n",
       "      <td>0.406925</td>\n",
       "      <td>0.120997</td>\n",
       "      <td>versicolor</td>\n",
       "      <td>-0.505066</td>\n",
       "      <td>0.011359</td>\n",
       "      <td>0</td>\n",
       "    </tr>\n",
       "    <tr>\n",
       "      <th>141</th>\n",
       "      <td>1.061678</td>\n",
       "      <td>0.167852</td>\n",
       "      <td>1.050759</td>\n",
       "      <td>1.631826</td>\n",
       "      <td>virginica</td>\n",
       "      <td>0.908042</td>\n",
       "      <td>1.691599</td>\n",
       "      <td>2</td>\n",
       "    </tr>\n",
       "    <tr>\n",
       "      <th>15</th>\n",
       "      <td>-0.051538</td>\n",
       "      <td>2.282788</td>\n",
       "      <td>-1.524576</td>\n",
       "      <td>-1.389832</td>\n",
       "      <td>setosa</td>\n",
       "      <td>1.621941</td>\n",
       "      <td>-1.230558</td>\n",
       "      <td>1</td>\n",
       "    </tr>\n",
       "    <tr>\n",
       "      <th>68</th>\n",
       "      <td>-0.051538</td>\n",
       "      <td>-0.772119</td>\n",
       "      <td>0.172804</td>\n",
       "      <td>-0.291047</td>\n",
       "      <td>versicolor</td>\n",
       "      <td>-0.593202</td>\n",
       "      <td>-0.376049</td>\n",
       "      <td>3</td>\n",
       "    </tr>\n",
       "    <tr>\n",
       "      <th>18</th>\n",
       "      <td>-0.917373</td>\n",
       "      <td>1.107823</td>\n",
       "      <td>-1.407515</td>\n",
       "      <td>-1.252484</td>\n",
       "      <td>setosa</td>\n",
       "      <td>0.050188</td>\n",
       "      <td>-1.190711</td>\n",
       "      <td>1</td>\n",
       "    </tr>\n",
       "  </tbody>\n",
       "</table>\n",
       "</div>"
      ],
      "text/plain": [
       "     sepal_length  sepal_width  petal_length  petal_width     species  \\\n",
       "56      -0.175228    -0.537127      0.406925     0.120997  versicolor   \n",
       "141      1.061678     0.167852      1.050759     1.631826   virginica   \n",
       "15      -0.051538     2.282788     -1.524576    -1.389832      setosa   \n",
       "68      -0.051538    -0.772119      0.172804    -0.291047  versicolor   \n",
       "18      -0.917373     1.107823     -1.407515    -1.252484      setosa   \n",
       "\n",
       "     sepal_area  petal_area  cluster  \n",
       "56    -0.505066    0.011359        0  \n",
       "141    0.908042    1.691599        2  \n",
       "15     1.621941   -1.230558        1  \n",
       "68    -0.593202   -0.376049        3  \n",
       "18     0.050188   -1.190711        1  "
      ]
     },
     "execution_count": 9,
     "metadata": {},
     "output_type": "execute_result"
    }
   ],
   "source": [
    "#make a column with these predictions\n",
    "train_scaled['cluster'] = kmeans.predict(X)\n",
    "train_scaled.sample(5)"
   ]
  },
  {
   "cell_type": "code",
   "execution_count": 10,
   "id": "eed2a1d1-43e5-4566-aa2c-508ca65c19af",
   "metadata": {},
   "outputs": [
    {
     "data": {
      "text/html": [
       "<div>\n",
       "<style scoped>\n",
       "    .dataframe tbody tr th:only-of-type {\n",
       "        vertical-align: middle;\n",
       "    }\n",
       "\n",
       "    .dataframe tbody tr th {\n",
       "        vertical-align: top;\n",
       "    }\n",
       "\n",
       "    .dataframe thead th {\n",
       "        text-align: right;\n",
       "    }\n",
       "</style>\n",
       "<table border=\"1\" class=\"dataframe\">\n",
       "  <thead>\n",
       "    <tr style=\"text-align: right;\">\n",
       "      <th></th>\n",
       "      <th>petal_width</th>\n",
       "      <th>sepal_width</th>\n",
       "    </tr>\n",
       "  </thead>\n",
       "  <tbody>\n",
       "    <tr>\n",
       "      <th>0</th>\n",
       "      <td>0.445139</td>\n",
       "      <td>-0.292734</td>\n",
       "    </tr>\n",
       "    <tr>\n",
       "      <th>1</th>\n",
       "      <td>-1.307423</td>\n",
       "      <td>0.966828</td>\n",
       "    </tr>\n",
       "    <tr>\n",
       "      <th>2</th>\n",
       "      <td>1.211702</td>\n",
       "      <td>0.430491</td>\n",
       "    </tr>\n",
       "    <tr>\n",
       "      <th>3</th>\n",
       "      <td>0.056363</td>\n",
       "      <td>-1.421805</td>\n",
       "    </tr>\n",
       "  </tbody>\n",
       "</table>\n",
       "</div>"
      ],
      "text/plain": [
       "   petal_width  sepal_width\n",
       "0     0.445139    -0.292734\n",
       "1    -1.307423     0.966828\n",
       "2     1.211702     0.430491\n",
       "3     0.056363    -1.421805"
      ]
     },
     "execution_count": 10,
     "metadata": {},
     "output_type": "execute_result"
    }
   ],
   "source": [
    "#get the centroids\n",
    "centroids = pd.DataFrame(kmeans.cluster_centers_, columns=X.columns)\n",
    "centroids"
   ]
  },
  {
   "cell_type": "code",
   "execution_count": 11,
   "id": "4e0e8cbf-e568-4944-af9e-d2bf16c6c464",
   "metadata": {},
   "outputs": [
    {
     "data": {
      "text/plain": [
       "Text(0.5, 1.0, 'Visualizing Cluster Centers')"
      ]
     },
     "execution_count": 11,
     "metadata": {},
     "output_type": "execute_result"
    },
    {
     "data": {
      "image/png": "[encoded data removed]",
      "text/plain": [
       "<Figure size 1008x648 with 1 Axes>"
      ]
     },
     "metadata": {
      "needs_background": "light"
     },
     "output_type": "display_data"
    }
   ],
   "source": [
    "plt.figure(figsize=(14, 9))\n",
    "\n",
    "for cluster, subset in train_scaled.groupby('cluster'):\n",
    "    plt.scatter(subset.sepal_width, subset.petal_width, label='cluster ' + str(cluster), alpha=.6)\n",
    "\n",
    "centroids.plot.scatter(y='petal_width', x='sepal_width', c='black', marker='x', s=1000, ax=plt.gca(), label='centroid')\n",
    "\n",
    "plt.legend()\n",
    "plt.xlabel('sepal_width')\n",
    "plt.ylabel('petal_width')\n",
    "plt.title('Visualizing Cluster Centers')"
   ]
  },
  {
   "cell_type": "code",
   "execution_count": 12,
   "id": "6c4ecb65-4c96-4d83-83dd-3238bfbb1471",
   "metadata": {},
   "outputs": [
    {
     "data": {
      "image/png": "[encoded data removed]",
      "text/plain": [
       "<Figure size 648x432 with 1 Axes>"
      ]
     },
     "metadata": {},
     "output_type": "display_data"
    }
   ],
   "source": [
    "with plt.style.context('seaborn-whitegrid'):\n",
    "    plt.figure(figsize=(9, 6))\n",
    "    pd.Series({k: KMeans(k).fit(X).inertia_ for k in range(2, 12)}).plot(marker='x')\n",
    "    plt.xticks(range(2, 12))\n",
    "    plt.xlabel('k')\n",
    "    plt.ylabel('inertia')\n",
    "    plt.title('Change in inertia as k increases')"
   ]
  },
  {
   "cell_type": "code",
   "execution_count": 13,
   "id": "061a37d8-c101-4510-97b0-e87f55065cac",
   "metadata": {},
   "outputs": [],
   "source": [
    "X = train_scaled[['petal_width', 'sepal_width','petal_length']]"
   ]
  },
  {
   "cell_type": "code",
   "execution_count": 14,
   "id": "28a0a71c-03f7-48a4-86ee-aae1a21eb069",
   "metadata": {},
   "outputs": [],
   "source": [
    "kmeans = KMeans(n_clusters=3)\n",
    "kmeans.fit(X)\n",
    "train_scaled['cluster_2'] = kmeans.predict(X)"
   ]
  },
  {
   "cell_type": "code",
   "execution_count": 15,
   "id": "b2a34d59-c095-4fd7-afcb-6165ec30d825",
   "metadata": {},
   "outputs": [
    {
     "data": {
      "text/html": [
       "<div>\n",
       "<style scoped>\n",
       "    .dataframe tbody tr th:only-of-type {\n",
       "        vertical-align: middle;\n",
       "    }\n",
       "\n",
       "    .dataframe tbody tr th {\n",
       "        vertical-align: top;\n",
       "    }\n",
       "\n",
       "    .dataframe thead th {\n",
       "        text-align: right;\n",
       "    }\n",
       "</style>\n",
       "<table border=\"1\" class=\"dataframe\">\n",
       "  <thead>\n",
       "    <tr style=\"text-align: right;\">\n",
       "      <th></th>\n",
       "      <th>petal_width</th>\n",
       "      <th>sepal_width</th>\n",
       "      <th>petal_length</th>\n",
       "    </tr>\n",
       "  </thead>\n",
       "  <tbody>\n",
       "    <tr>\n",
       "      <th>0</th>\n",
       "      <td>1.043976</td>\n",
       "      <td>0.271249</td>\n",
       "      <td>1.001594</td>\n",
       "    </tr>\n",
       "    <tr>\n",
       "      <th>1</th>\n",
       "      <td>-1.307423</td>\n",
       "      <td>0.966828</td>\n",
       "      <td>-1.356009</td>\n",
       "    </tr>\n",
       "    <tr>\n",
       "      <th>2</th>\n",
       "      <td>0.193711</td>\n",
       "      <td>-0.910350</td>\n",
       "      <td>0.260599</td>\n",
       "    </tr>\n",
       "  </tbody>\n",
       "</table>\n",
       "</div>"
      ],
      "text/plain": [
       "   petal_width  sepal_width  petal_length\n",
       "0     1.043976     0.271249      1.001594\n",
       "1    -1.307423     0.966828     -1.356009\n",
       "2     0.193711    -0.910350      0.260599"
      ]
     },
     "execution_count": 15,
     "metadata": {},
     "output_type": "execute_result"
    }
   ],
   "source": [
    "centroids = pd.DataFrame(kmeans.cluster_centers_, columns=X.columns)\n",
    "centroids"
   ]
  },
  {
   "cell_type": "code",
   "execution_count": 16,
   "id": "99eeaacf-3774-4b98-8774-3b06e2929b73",
   "metadata": {},
   "outputs": [
    {
     "data": {
      "text/plain": [
       "Text(0.5, 1.0, 'Visualizing Cluster Centers')"
      ]
     },
     "execution_count": 16,
     "metadata": {},
     "output_type": "execute_result"
    },
    {
     "data": {
      "image/png": "[encoded data removed]",
      "text/plain": [
       "<Figure size 1008x648 with 1 Axes>"
      ]
     },
     "metadata": {
      "needs_background": "light"
     },
     "output_type": "display_data"
    }
   ],
   "source": [
    "plt.figure(figsize=(14, 9))\n",
    "\n",
    "for cluster, subset in train_scaled.groupby('cluster_2'):\n",
    "    plt.scatter(subset.sepal_width, subset.petal_width, label='cluster ' + str(cluster), alpha=.6)\n",
    "\n",
    "centroids.plot.scatter(y='petal_width', x='sepal_width', c='black', marker='x', s=1000, ax=plt.gca(), label='centroid')\n",
    "\n",
    "plt.legend()\n",
    "plt.xlabel('sepal_width')\n",
    "plt.ylabel('petal_width')\n",
    "plt.title('Visualizing Cluster Centers')"
   ]
  },
  {
   "cell_type": "code",
   "execution_count": 17,
   "id": "093366b0-c49b-45fb-9d95-adf3b25b806b",
   "metadata": {},
   "outputs": [
    {
     "data": {
      "text/plain": [
       "Text(0.5, 1.0, 'Visualizing Cluster Centers')"
      ]
     },
     "execution_count": 17,
     "metadata": {},
     "output_type": "execute_result"
    },
    {
     "data": {
      "image/png": "[encoded data removed]",
      "text/plain": [
       "<Figure size 1008x648 with 1 Axes>"
      ]
     },
     "metadata": {
      "needs_background": "light"
     },
     "output_type": "display_data"
    }
   ],
   "source": [
    "plt.figure(figsize=(14, 9))\n",
    "\n",
    "for cluster, subset in train_scaled.groupby('cluster_2'):\n",
    "    plt.scatter(subset.petal_length, subset.sepal_width, label='cluster ' + str(cluster), alpha=.6)\n",
    "\n",
    "centroids.plot.scatter(y='sepal_width', x='petal_length', c='black', marker='x', s=1000, ax=plt.gca(), label='centroid')\n",
    "\n",
    "plt.legend()\n",
    "plt.xlabel('petal_length')\n",
    "plt.ylabel('sepal_width')\n",
    "plt.title('Visualizing Cluster Centers')"
   ]
  },
  {
   "cell_type": "code",
   "execution_count": 18,
   "id": "dfe48a5b-5b17-4881-b173-82663c4160ee",
   "metadata": {},
   "outputs": [],
   "source": [
    "X = train_scaled[['petal_length', 'petal_width','petal_area']]"
   ]
  },
  {
   "cell_type": "code",
   "execution_count": 19,
   "id": "c6284d23-871d-4e64-8615-da34f0c422f2",
   "metadata": {},
   "outputs": [],
   "source": [
    "kmeans = KMeans(n_clusters=3)\n",
    "kmeans.fit(X)\n",
    "train_scaled['cluster_3'] = kmeans.predict(X)"
   ]
  },
  {
   "cell_type": "code",
   "execution_count": 20,
   "id": "d58813f5-defa-490b-a85e-7b9887343b3c",
   "metadata": {},
   "outputs": [
    {
     "data": {
      "text/html": [
       "<div>\n",
       "<style scoped>\n",
       "    .dataframe tbody tr th:only-of-type {\n",
       "        vertical-align: middle;\n",
       "    }\n",
       "\n",
       "    .dataframe tbody tr th {\n",
       "        vertical-align: top;\n",
       "    }\n",
       "\n",
       "    .dataframe thead th {\n",
       "        text-align: right;\n",
       "    }\n",
       "</style>\n",
       "<table border=\"1\" class=\"dataframe\">\n",
       "  <thead>\n",
       "    <tr style=\"text-align: right;\">\n",
       "      <th></th>\n",
       "      <th>petal_length</th>\n",
       "      <th>petal_width</th>\n",
       "      <th>petal_area</th>\n",
       "    </tr>\n",
       "  </thead>\n",
       "  <tbody>\n",
       "    <tr>\n",
       "      <th>0</th>\n",
       "      <td>1.041394</td>\n",
       "      <td>1.148361</td>\n",
       "      <td>1.252744</td>\n",
       "    </tr>\n",
       "    <tr>\n",
       "      <th>1</th>\n",
       "      <td>-1.360241</td>\n",
       "      <td>-1.305310</td>\n",
       "      <td>-1.195819</td>\n",
       "    </tr>\n",
       "    <tr>\n",
       "      <th>2</th>\n",
       "      <td>0.282770</td>\n",
       "      <td>0.158456</td>\n",
       "      <td>-0.006888</td>\n",
       "    </tr>\n",
       "  </tbody>\n",
       "</table>\n",
       "</div>"
      ],
      "text/plain": [
       "   petal_length  petal_width  petal_area\n",
       "0      1.041394     1.148361    1.252744\n",
       "1     -1.360241    -1.305310   -1.195819\n",
       "2      0.282770     0.158456   -0.006888"
      ]
     },
     "execution_count": 20,
     "metadata": {},
     "output_type": "execute_result"
    }
   ],
   "source": [
    "centroids = pd.DataFrame(kmeans.cluster_centers_, columns=X.columns)\n",
    "centroids"
   ]
  },
  {
   "cell_type": "code",
   "execution_count": 21,
   "id": "ca13e76c-23ed-4889-b942-81d016075895",
   "metadata": {},
   "outputs": [
    {
     "data": {
      "text/plain": [
       "Text(0.5, 1.0, 'Visualizing Cluster Centers')"
      ]
     },
     "execution_count": 21,
     "metadata": {},
     "output_type": "execute_result"
    },
    {
     "data": {
      "image/png": "[encoded data removed]",
      "text/plain": [
       "<Figure size 1008x648 with 1 Axes>"
      ]
     },
     "metadata": {
      "needs_background": "light"
     },
     "output_type": "display_data"
    }
   ],
   "source": [
    "plt.figure(figsize=(14, 9))\n",
    "\n",
    "for cluster, subset in train_scaled.groupby('cluster_3'):\n",
    "    plt.scatter(subset.sepal_width, subset.petal_width, label='cluster ' + str(cluster), alpha=.6)\n",
    "\n",
    "centroids.plot.scatter(y='petal_width', x='petal_length', c='black', marker='x', s=1000, ax=plt.gca(), label='centroid')\n",
    "\n",
    "plt.legend()\n",
    "plt.xlabel('petal_length')\n",
    "plt.ylabel('petal_width')\n",
    "plt.title('Visualizing Cluster Centers')"
   ]
  },
  {
   "cell_type": "code",
   "execution_count": 23,
   "id": "7a699381-405f-43d7-a6de-938abae49ff8",
   "metadata": {},
   "outputs": [
    {
     "data": {
      "text/html": [
       "<div>\n",
       "<style scoped>\n",
       "    .dataframe tbody tr th:only-of-type {\n",
       "        vertical-align: middle;\n",
       "    }\n",
       "\n",
       "    .dataframe tbody tr th {\n",
       "        vertical-align: top;\n",
       "    }\n",
       "\n",
       "    .dataframe thead th {\n",
       "        text-align: right;\n",
       "    }\n",
       "</style>\n",
       "<table border=\"1\" class=\"dataframe\">\n",
       "  <thead>\n",
       "    <tr style=\"text-align: right;\">\n",
       "      <th></th>\n",
       "      <th>gender</th>\n",
       "      <th>age</th>\n",
       "      <th>annual_income</th>\n",
       "      <th>spending_score</th>\n",
       "    </tr>\n",
       "    <tr>\n",
       "      <th>customer_id</th>\n",
       "      <th></th>\n",
       "      <th></th>\n",
       "      <th></th>\n",
       "      <th></th>\n",
       "    </tr>\n",
       "  </thead>\n",
       "  <tbody>\n",
       "    <tr>\n",
       "      <th>1</th>\n",
       "      <td>Male</td>\n",
       "      <td>19</td>\n",
       "      <td>15</td>\n",
       "      <td>39</td>\n",
       "    </tr>\n",
       "    <tr>\n",
       "      <th>2</th>\n",
       "      <td>Male</td>\n",
       "      <td>21</td>\n",
       "      <td>15</td>\n",
       "      <td>81</td>\n",
       "    </tr>\n",
       "    <tr>\n",
       "      <th>3</th>\n",
       "      <td>Female</td>\n",
       "      <td>20</td>\n",
       "      <td>16</td>\n",
       "      <td>6</td>\n",
       "    </tr>\n",
       "    <tr>\n",
       "      <th>4</th>\n",
       "      <td>Female</td>\n",
       "      <td>23</td>\n",
       "      <td>16</td>\n",
       "      <td>77</td>\n",
       "    </tr>\n",
       "    <tr>\n",
       "      <th>5</th>\n",
       "      <td>Female</td>\n",
       "      <td>31</td>\n",
       "      <td>17</td>\n",
       "      <td>40</td>\n",
       "    </tr>\n",
       "  </tbody>\n",
       "</table>\n",
       "</div>"
      ],
      "text/plain": [
       "             gender  age  annual_income  spending_score\n",
       "customer_id                                            \n",
       "1              Male   19             15              39\n",
       "2              Male   21             15              81\n",
       "3            Female   20             16               6\n",
       "4            Female   23             16              77\n",
       "5            Female   31             17              40"
      ]
     },
     "execution_count": 23,
     "metadata": {},
     "output_type": "execute_result"
    }
   ],
   "source": [
    "## Mall_customer dataset\n",
    "df = w.get_mallcustomer_data()\n",
    "df.head()"
   ]
  },
  {
   "cell_type": "code",
   "execution_count": null,
   "id": "cd32779f-787a-4eb9-bb05-d38d28390fad",
   "metadata": {},
   "outputs": [],
   "source": []
  }
 ],
 "metadata": {
  "kernelspec": {
   "display_name": "Python 3 (ipykernel)",
   "language": "python",
   "name": "python3"
  },
  "language_info": {
   "codemirror_mode": {
    "name": "ipython",
    "version": 3
   },
   "file_extension": ".py",
   "mimetype": "text/x-python",
   "name": "python",
   "nbconvert_exporter": "python",
   "pygments_lexer": "ipython3",
   "version": "3.9.7"
  }
 },
 "nbformat": 4,
 "nbformat_minor": 5
}
