{
 "cells": [
  {
   "cell_type": "markdown",
   "id": "491db769",
   "metadata": {},
   "source": [
    "# Baby Names\n",
    "\n",
    "This dataset contains information on how many babies were born with each name. Both the raw number and proportion of births for the year are included."
   ]
  },
  {
   "cell_type": "code",
   "execution_count": 1,
   "id": "e8a5856f",
   "metadata": {},
   "outputs": [
    {
     "data": {
      "text/html": [
       "<div>\n",
       "<style scoped>\n",
       "    .dataframe tbody tr th:only-of-type {\n",
       "        vertical-align: middle;\n",
       "    }\n",
       "\n",
       "    .dataframe tbody tr th {\n",
       "        vertical-align: top;\n",
       "    }\n",
       "\n",
       "    .dataframe thead th {\n",
       "        text-align: right;\n",
       "    }\n",
       "</style>\n",
       "<table border=\"1\" class=\"dataframe\">\n",
       "  <thead>\n",
       "    <tr style=\"text-align: right;\">\n",
       "      <th></th>\n",
       "      <th>year</th>\n",
       "      <th>sex</th>\n",
       "      <th>name</th>\n",
       "      <th>n</th>\n",
       "      <th>prop</th>\n",
       "    </tr>\n",
       "  </thead>\n",
       "  <tbody>\n",
       "    <tr>\n",
       "      <th>0</th>\n",
       "      <td>1880</td>\n",
       "      <td>F</td>\n",
       "      <td>Mary</td>\n",
       "      <td>7065</td>\n",
       "      <td>0.072384</td>\n",
       "    </tr>\n",
       "    <tr>\n",
       "      <th>1</th>\n",
       "      <td>1880</td>\n",
       "      <td>F</td>\n",
       "      <td>Anna</td>\n",
       "      <td>2604</td>\n",
       "      <td>0.026679</td>\n",
       "    </tr>\n",
       "    <tr>\n",
       "      <th>2</th>\n",
       "      <td>1880</td>\n",
       "      <td>F</td>\n",
       "      <td>Emma</td>\n",
       "      <td>2003</td>\n",
       "      <td>0.020521</td>\n",
       "    </tr>\n",
       "    <tr>\n",
       "      <th>3</th>\n",
       "      <td>1880</td>\n",
       "      <td>F</td>\n",
       "      <td>Elizabeth</td>\n",
       "      <td>1939</td>\n",
       "      <td>0.019866</td>\n",
       "    </tr>\n",
       "    <tr>\n",
       "      <th>4</th>\n",
       "      <td>1880</td>\n",
       "      <td>F</td>\n",
       "      <td>Minnie</td>\n",
       "      <td>1746</td>\n",
       "      <td>0.017888</td>\n",
       "    </tr>\n",
       "  </tbody>\n",
       "</table>\n",
       "</div>"
      ],
      "text/plain": [
       "   year sex       name     n      prop\n",
       "0  1880   F       Mary  7065  0.072384\n",
       "1  1880   F       Anna  2604  0.026679\n",
       "2  1880   F       Emma  2003  0.020521\n",
       "3  1880   F  Elizabeth  1939  0.019866\n",
       "4  1880   F     Minnie  1746  0.017888"
      ]
     },
     "execution_count": 1,
     "metadata": {},
     "output_type": "execute_result"
    }
   ],
   "source": [
    "import matplotlib.pyplot as plt\n",
    "import seaborn as sns\n",
    "import numpy as np\n",
    "import pandas as pd\n",
    "\n",
    "url = 'https://raw.githubusercontent.com/zgulde/tidytuesday/master/data/2022/2022-03-22/babynames.csv'\n",
    "df = pd.read_csv(url)\n",
    "df.head()"
   ]
  },
  {
   "cell_type": "markdown",
   "id": "0b8fa8e9",
   "metadata": {},
   "source": [
    "- What were the 10 most popular names the year you were born?\n",
    "- What year was your name the most popular?\n",
    "- Where does your name rank for the year that you were born?\n",
    "- Does your name increase or decrease in popularity compared to the year after the year you were born? The year before? What about 5 years before/after?\n",
    "- Visualize your name's popularity over time."
   ]
  },
  {
   "cell_type": "code",
   "execution_count": 35,
   "id": "ae06ec80-21ec-4505-a668-78adb0d61326",
   "metadata": {},
   "outputs": [
    {
     "data": {
      "text/html": [
       "<div>\n",
       "<style scoped>\n",
       "    .dataframe tbody tr th:only-of-type {\n",
       "        vertical-align: middle;\n",
       "    }\n",
       "\n",
       "    .dataframe tbody tr th {\n",
       "        vertical-align: top;\n",
       "    }\n",
       "\n",
       "    .dataframe thead th {\n",
       "        text-align: right;\n",
       "    }\n",
       "</style>\n",
       "<table border=\"1\" class=\"dataframe\">\n",
       "  <thead>\n",
       "    <tr style=\"text-align: right;\">\n",
       "      <th></th>\n",
       "      <th>name</th>\n",
       "      <th>n</th>\n",
       "    </tr>\n",
       "  </thead>\n",
       "  <tbody>\n",
       "    <tr>\n",
       "      <th>1238797</th>\n",
       "      <td>Andrew</td>\n",
       "      <td>25234</td>\n",
       "    </tr>\n",
       "    <tr>\n",
       "      <th>1238796</th>\n",
       "      <td>Austin</td>\n",
       "      <td>25660</td>\n",
       "    </tr>\n",
       "    <tr>\n",
       "      <th>1238795</th>\n",
       "      <td>Brandon</td>\n",
       "      <td>25845</td>\n",
       "    </tr>\n",
       "    <tr>\n",
       "      <th>1238794</th>\n",
       "      <td>Tyler</td>\n",
       "      <td>26953</td>\n",
       "    </tr>\n",
       "    <tr>\n",
       "      <th>1238793</th>\n",
       "      <td>Nicholas</td>\n",
       "      <td>27720</td>\n",
       "    </tr>\n",
       "    <tr>\n",
       "      <th>1238792</th>\n",
       "      <td>Joshua</td>\n",
       "      <td>29169</td>\n",
       "    </tr>\n",
       "    <tr>\n",
       "      <th>1238791</th>\n",
       "      <td>Christopher</td>\n",
       "      <td>30902</td>\n",
       "    </tr>\n",
       "    <tr>\n",
       "      <th>1238790</th>\n",
       "      <td>Jacob</td>\n",
       "      <td>31923</td>\n",
       "    </tr>\n",
       "    <tr>\n",
       "      <th>1238789</th>\n",
       "      <td>Matthew</td>\n",
       "      <td>32073</td>\n",
       "    </tr>\n",
       "    <tr>\n",
       "      <th>1238788</th>\n",
       "      <td>Michael</td>\n",
       "      <td>38365</td>\n",
       "    </tr>\n",
       "  </tbody>\n",
       "</table>\n",
       "</div>"
      ],
      "text/plain": [
       "                name      n\n",
       "1238797       Andrew  25234\n",
       "1238796       Austin  25660\n",
       "1238795      Brandon  25845\n",
       "1238794        Tyler  26953\n",
       "1238793     Nicholas  27720\n",
       "1238792       Joshua  29169\n",
       "1238791  Christopher  30902\n",
       "1238790        Jacob  31923\n",
       "1238789      Matthew  32073\n",
       "1238788      Michael  38365"
      ]
     },
     "execution_count": 35,
     "metadata": {},
     "output_type": "execute_result"
    }
   ],
   "source": [
    "df.loc[df['year']==1996,['name','n']].sort_values(by='n').tail(10)"
   ]
  },
  {
   "cell_type": "code",
   "execution_count": 36,
   "id": "01fd4773-dccb-482f-aeae-523ec60ac6b0",
   "metadata": {},
   "outputs": [
    {
     "data": {
      "text/plain": [
       "year\n",
       "2013     7274\n",
       "2014     9441\n",
       "2015    11669\n",
       "2016    13043\n",
       "2017    13156\n",
       "Name: n, dtype: int64"
      ]
     },
     "execution_count": 36,
     "metadata": {},
     "output_type": "execute_result"
    }
   ],
   "source": [
    "df[df['name']=='Oliver'].groupby('year').n.sum().sort_values().tail(5)"
   ]
  },
  {
   "cell_type": "code",
   "execution_count": 38,
   "id": "0e5976d0-7066-41d7-95b5-47499cb9acfa",
   "metadata": {},
   "outputs": [
    {
     "data": {
      "text/html": [
       "<div>\n",
       "<style scoped>\n",
       "    .dataframe tbody tr th:only-of-type {\n",
       "        vertical-align: middle;\n",
       "    }\n",
       "\n",
       "    .dataframe tbody tr th {\n",
       "        vertical-align: top;\n",
       "    }\n",
       "\n",
       "    .dataframe thead th {\n",
       "        text-align: right;\n",
       "    }\n",
       "</style>\n",
       "<table border=\"1\" class=\"dataframe\">\n",
       "  <thead>\n",
       "    <tr style=\"text-align: right;\">\n",
       "      <th></th>\n",
       "      <th>year</th>\n",
       "      <th>sex</th>\n",
       "      <th>name</th>\n",
       "      <th>n</th>\n",
       "      <th>prop</th>\n",
       "      <th>rank</th>\n",
       "    </tr>\n",
       "  </thead>\n",
       "  <tbody>\n",
       "    <tr>\n",
       "      <th>1239173</th>\n",
       "      <td>1996</td>\n",
       "      <td>M</td>\n",
       "      <td>Oliver</td>\n",
       "      <td>607</td>\n",
       "      <td>0.000303</td>\n",
       "      <td>802.5</td>\n",
       "    </tr>\n",
       "  </tbody>\n",
       "</table>\n",
       "</div>"
      ],
      "text/plain": [
       "         year sex    name    n      prop   rank\n",
       "1239173  1996   M  Oliver  607  0.000303  802.5"
      ]
     },
     "execution_count": 38,
     "metadata": {},
     "output_type": "execute_result"
    }
   ],
   "source": [
    "subset = df[df['year'] == 1996].copy()\n",
    "subset['rank'] = subset['n'].rank(ascending=False)\n",
    "subset[subset['name'] == 'Oliver']"
   ]
  },
  {
   "cell_type": "code",
   "execution_count": 42,
   "id": "fa9411f9-08c5-410f-9123-fed24602b2da",
   "metadata": {},
   "outputs": [
    {
     "data": {
      "image/png": "[encoded data removed]",
      "text/plain": [
       "<Figure size 432x288 with 1 Axes>"
      ]
     },
     "metadata": {
      "needs_background": "light"
     },
     "output_type": "display_data"
    }
   ],
   "source": [
    "subset= df[df['name'] == 'Oliver']\n",
    "subset = subset.groupby('year').n.sum()\n",
    "plt.plot(subset.index, subset)\n",
    "plt.xlabel('Year')\n",
    "plt.ylabel('# of Birth')\n",
    "plt.gca().yaxis.set_major_formatter('{:,.0f}'.format)"
   ]
  },
  {
   "cell_type": "code",
   "execution_count": null,
   "id": "0f5822f4-ab57-4c18-aaf3-8a9f964d8acb",
   "metadata": {},
   "outputs": [],
   "source": []
  }
 ],
 "metadata": {
  "kernelspec": {
   "display_name": "Python 3 (ipykernel)",
   "language": "python",
   "name": "python3"
  },
  "language_info": {
   "codemirror_mode": {
    "name": "ipython",
    "version": 3
   },
   "file_extension": ".py",
   "mimetype": "text/x-python",
   "name": "python",
   "nbconvert_exporter": "python",
   "pygments_lexer": "ipython3",
   "version": "3.9.7"
  }
 },
 "nbformat": 4,
 "nbformat_minor": 5
}
